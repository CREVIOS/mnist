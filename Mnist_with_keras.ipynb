{
  "nbformat": 4,
  "nbformat_minor": 0,
  "metadata": {
    "colab": {
      "name": "Mnist with keras.ipynb",
      "provenance": [],
      "authorship_tag": "ABX9TyMvEn9rjgZHJg7e0MSsYTGk",
      "include_colab_link": true
    },
    "kernelspec": {
      "name": "python3",
      "display_name": "Python 3"
    }
  },
  "cells": [
    {
      "cell_type": "markdown",
      "metadata": {
        "id": "view-in-github",
        "colab_type": "text"
      },
      "source": [
        "<a href=\"https://colab.research.google.com/github/CREVIOS/mnist/blob/main/Mnist_with_keras.ipynb\" target=\"_parent\"><img src=\"https://colab.research.google.com/assets/colab-badge.svg\" alt=\"Open In Colab\"/></a>"
      ]
    },
    {
      "cell_type": "markdown",
      "metadata": {
        "id": "BJoELwtE2Nwu"
      },
      "source": [
        "Author: Md.Sadek Hossain Asif"
      ]
    },
    {
      "cell_type": "code",
      "metadata": {
        "id": "7mXihvD_Cp7e"
      },
      "source": [
        "from __future__ import print_function\n",
        "import keras\n",
        "from keras.datasets import mnist\n",
        "from keras.models import Sequential\n",
        "from keras.layers import Dense, Dropout, Flatten\n",
        "from keras.layers import Conv2D, MaxPooling2D\n",
        "from keras import backend as K"
      ],
      "execution_count": 42,
      "outputs": []
    },
    {
      "cell_type": "code",
      "metadata": {
        "id": "pXpfOp9DDmhz"
      },
      "source": [
        "batch_size = 128\n",
        "num_classes = 10\n",
        "epochs = 12\n",
        "\n",
        "# input image dimensions\n",
        "img_rows, img_cols = 28, 28"
      ],
      "execution_count": null,
      "outputs": []
    },
    {
      "cell_type": "code",
      "metadata": {
        "id": "jR4TTUVwDohc"
      },
      "source": [
        "(x_train, y_train), (x_test, y_test) = mnist.load_data()"
      ],
      "execution_count": null,
      "outputs": []
    },
    {
      "cell_type": "code",
      "metadata": {
        "colab": {
          "base_uri": "https://localhost:8080/"
        },
        "id": "B19-CRC1Ed-q",
        "outputId": "38eb1edf-91d4-49f5-97c2-b77304504e86"
      },
      "source": [
        "import numpy as np\n",
        "class_names = [\"zero\",\"one\",\"two\",\"three\",\"four\",\"five\",\"six\",\"seven\",\"eight\",\"nine\"]\n",
        "print(\"Labels:\", len(x_train))\n"
      ],
      "execution_count": 43,
      "outputs": [
        {
          "output_type": "stream",
          "text": [
            "Labels: 60000\n"
          ],
          "name": "stdout"
        }
      ]
    },
    {
      "cell_type": "code",
      "metadata": {
        "colab": {
          "base_uri": "https://localhost:8080/",
          "height": 279
        },
        "id": "b2JX5WRnFDYB",
        "outputId": "ff5fcca8-dfa2-4ecb-af88-69dbb3577688"
      },
      "source": [
        "import matplotlib.pyplot as plt\n",
        "plt.figure()\n",
        "plt.imshow(x_train[0])\n",
        "plt.colorbar()\n",
        "plt.grid(False)\n",
        "plt.xlabel(\"Classification label: {}\".format(y_train[0]))\n",
        "plt.show()"
      ],
      "execution_count": null,
      "outputs": [
        {
          "output_type": "display_data",
          "data": {
            "image/png": "[encoded data removed]",
            "text/plain": [
              "<Figure size 432x288 with 2 Axes>"
            ]
          },
          "metadata": {
            "tags": [],
            "needs_background": "light"
          }
        }
      ]
    },
    {
      "cell_type": "code",
      "metadata": {
        "id": "vqBehe2cDrTO"
      },
      "source": [
        "if K.image_data_format() == 'channels_first':\n",
        "    x_train = x_train.reshape(x_train.shape[0], 1, img_rows, img_cols)\n",
        "    x_test = x_test.reshape(x_test.shape[0], 1, img_rows, img_cols)\n",
        "    input_shape = (1, img_rows, img_cols)\n",
        "else:\n",
        "    x_train = x_train.reshape(x_train.shape[0], img_rows, img_cols, 1)\n",
        "    x_test = x_test.reshape(x_test.shape[0], img_rows, img_cols, 1)\n",
        "    input_shape = (img_rows, img_cols, 1)"
      ],
      "execution_count": null,
      "outputs": []
    },
    {
      "cell_type": "code",
      "metadata": {
        "colab": {
          "base_uri": "https://localhost:8080/"
        },
        "id": "XgTnBxYnDusD",
        "outputId": "e34ba75d-80b5-432b-86b0-e8df97b9b617"
      },
      "source": [
        "x_train = x_train.astype('float32')\n",
        "x_test = x_test.astype('float32')\n",
        "x_train /= 255\n",
        "x_test /= 255\n",
        "print('x_train shape:', x_train.shape)\n",
        "print(x_train.shape[0], 'train samples')\n",
        "print(x_test.shape[0], 'test samples')"
      ],
      "execution_count": null,
      "outputs": [
        {
          "output_type": "stream",
          "text": [
            "x_train shape: (60000, 28, 28, 1)\n",
            "60000 train samples\n",
            "10000 test samples\n"
          ],
          "name": "stdout"
        }
      ]
    },
    {
      "cell_type": "code",
      "metadata": {
        "id": "-OMzyOAYDxm6"
      },
      "source": [
        "# convert class vectors to binary class matrices\n",
        "y_train = keras.utils.to_categorical(y_train, num_classes)\n",
        "y_test = keras.utils.to_categorical(y_test, num_classes)"
      ],
      "execution_count": null,
      "outputs": []
    },
    {
      "cell_type": "markdown",
      "metadata": {
        "id": "IoAzwNmyXd0r"
      },
      "source": [
        "# **Model**"
      ]
    },
    {
      "cell_type": "code",
      "metadata": {
        "id": "cJkDZ-mrD0AU"
      },
      "source": [
        "model = Sequential()\n",
        "model.add(Conv2D(32, kernel_size=(3, 3),\n",
        "                 activation='relu',\n",
        "                 input_shape=input_shape))\n",
        "model.add(Conv2D(64, (3, 3), activation='relu'))\n",
        "model.add(MaxPooling2D(pool_size=(2, 2)))\n",
        "model.add(Dropout(0.25))\n",
        "model.add(Flatten())\n",
        "model.add(Dense(128, activation='relu'))\n",
        "model.add(Dropout(0.5))\n",
        "model.add(Dense(num_classes, activation='softmax'))"
      ],
      "execution_count": null,
      "outputs": []
    },
    {
      "cell_type": "code",
      "metadata": {
        "id": "u8HGarmXD2lA"
      },
      "source": [
        "model.compile(loss=keras.losses.categorical_crossentropy,\n",
        "              optimizer=keras.optimizers.Adadelta(),\n",
        "              metrics=['accuracy'])"
      ],
      "execution_count": null,
      "outputs": []
    },
    {
      "cell_type": "markdown",
      "metadata": {
        "id": "TTyifCfWXWDG"
      },
      "source": [
        "# **Model Summary**"
      ]
    },
    {
      "cell_type": "code",
      "metadata": {
        "colab": {
          "base_uri": "https://localhost:8080/"
        },
        "id": "1-9yDj87ENoZ",
        "outputId": "9138afdf-d0a6-4510-dbc4-e8b5a819c903"
      },
      "source": [
        "model.summary();"
      ],
      "execution_count": null,
      "outputs": [
        {
          "output_type": "stream",
          "text": [
            "Model: \"sequential_2\"\n",
            "_________________________________________________________________\n",
            "Layer (type)                 Output Shape              Param #   \n",
            "=================================================================\n",
            "conv2d_4 (Conv2D)            (None, 26, 26, 32)        320       \n",
            "_________________________________________________________________\n",
            "conv2d_5 (Conv2D)            (None, 24, 24, 64)        18496     \n",
            "_________________________________________________________________\n",
            "max_pooling2d_2 (MaxPooling2 (None, 12, 12, 64)        0         \n",
            "_________________________________________________________________\n",
            "dropout_4 (Dropout)          (None, 12, 12, 64)        0         \n",
            "_________________________________________________________________\n",
            "flatten_2 (Flatten)          (None, 9216)              0         \n",
            "_________________________________________________________________\n",
            "dense_4 (Dense)              (None, 128)               1179776   \n",
            "_________________________________________________________________\n",
            "dropout_5 (Dropout)          (None, 128)               0         \n",
            "_________________________________________________________________\n",
            "dense_5 (Dense)              (None, 10)                1290      \n",
            "=================================================================\n",
            "Total params: 1,199,882\n",
            "Trainable params: 1,199,882\n",
            "Non-trainable params: 0\n",
            "_________________________________________________________________\n"
          ],
          "name": "stdout"
        }
      ]
    },
    {
      "cell_type": "markdown",
      "metadata": {
        "id": "aMvVbh5FXZUm"
      },
      "source": [
        "# **Model Training**"
      ]
    },
    {
      "cell_type": "code",
      "metadata": {
        "colab": {
          "base_uri": "https://localhost:8080/",
          "height": 856
        },
        "id": "wDqVcorXXzrJ",
        "outputId": "b4a643fa-06ef-4104-8f9e-250d7c04e3b3"
      },
      "source": [
        "from keras.utils import plot_model\n",
        "plot_model(model, to_file='model.png')"
      ],
      "execution_count": 53,
      "outputs": [
        {
          "output_type": "execute_result",
          "data": {
            "image/png": "[encoded data removed]",
            "text/plain": [
              "<IPython.core.display.Image object>"
            ]
          },
          "metadata": {
            "tags": []
          },
          "execution_count": 53
        }
      ]
    },
    {
      "cell_type": "code",
      "metadata": {
        "colab": {
          "base_uri": "https://localhost:8080/"
        },
        "id": "HAgS6QOeD5T5",
        "outputId": "58025b47-2469-45d5-fff3-54fa5cdc1226"
      },
      "source": [
        "model.fit(x_train, y_train,\n",
        "          batch_size=batch_size,\n",
        "          epochs=epochs,\n",
        "          verbose=1,\n",
        "          validation_data=(x_test, y_test))\n",
        "score = model.evaluate(x_test, y_test, verbose=0)\n",
        "print('Test loss:', score[0])\n",
        "print('Test accuracy:', score[1])"
      ],
      "execution_count": null,
      "outputs": [
        {
          "output_type": "stream",
          "text": [
            "Epoch 1/12\n",
            "469/469 [==============================] - 152s 325ms/step - loss: 2.2801 - accuracy: 0.1345 - val_loss: 2.2407 - val_accuracy: 0.2915\n",
            "Epoch 2/12\n",
            "469/469 [==============================] - 145s 308ms/step - loss: 2.2177 - accuracy: 0.2524 - val_loss: 2.1663 - val_accuracy: 0.4581\n",
            "Epoch 3/12\n",
            "469/469 [==============================] - 147s 313ms/step - loss: 2.1413 - accuracy: 0.3602 - val_loss: 2.0682 - val_accuracy: 0.5789\n",
            "Epoch 4/12\n",
            "469/469 [==============================] - 145s 309ms/step - loss: 2.0387 - accuracy: 0.4455 - val_loss: 1.9372 - val_accuracy: 0.6667\n",
            "Epoch 5/12\n",
            "469/469 [==============================] - 146s 310ms/step - loss: 1.9034 - accuracy: 0.5158 - val_loss: 1.7686 - val_accuracy: 0.7169\n",
            "Epoch 6/12\n",
            "469/469 [==============================] - 145s 310ms/step - loss: 1.7422 - accuracy: 0.5633 - val_loss: 1.5700 - val_accuracy: 0.7507\n",
            "Epoch 7/12\n",
            "469/469 [==============================] - 148s 315ms/step - loss: 1.5699 - accuracy: 0.5989 - val_loss: 1.3638 - val_accuracy: 0.7744\n",
            "Epoch 8/12\n",
            "469/469 [==============================] - 145s 310ms/step - loss: 1.4029 - accuracy: 0.6295 - val_loss: 1.1758 - val_accuracy: 0.7927\n",
            "Epoch 9/12\n",
            "469/469 [==============================] - 146s 312ms/step - loss: 1.2585 - accuracy: 0.6543 - val_loss: 1.0202 - val_accuracy: 0.8053\n",
            "Epoch 10/12\n",
            "469/469 [==============================] - 146s 311ms/step - loss: 1.1383 - accuracy: 0.6768 - val_loss: 0.8966 - val_accuracy: 0.8169\n",
            "Epoch 11/12\n",
            "469/469 [==============================] - 147s 313ms/step - loss: 1.0447 - accuracy: 0.6966 - val_loss: 0.8012 - val_accuracy: 0.8283\n",
            "Epoch 12/12\n",
            "469/469 [==============================] - 144s 307ms/step - loss: 0.9707 - accuracy: 0.7128 - val_loss: 0.7264 - val_accuracy: 0.8402\n",
            "Test loss: 0.7263829112052917\n",
            "Test accuracy: 0.8402000069618225\n"
          ],
          "name": "stdout"
        }
      ]
    },
    {
      "cell_type": "markdown",
      "metadata": {
        "id": "L7r82x-LXNdh"
      },
      "source": [
        "# **Evaluation**"
      ]
    },
    {
      "cell_type": "code",
      "metadata": {
        "id": "m4xs2YhHFYpR"
      },
      "source": [
        "example_img = x_test[0]"
      ],
      "execution_count": null,
      "outputs": []
    },
    {
      "cell_type": "code",
      "metadata": {
        "colab": {
          "base_uri": "https://localhost:8080/",
          "height": 269
        },
        "id": "9mbIYv6fFbFW",
        "outputId": "beabe4f6-71d7-4b32-e232-17cc144d98ac"
      },
      "source": [
        "\n",
        "newimage = np.reshape(example_img,(28,28))\n",
        "plt.grid(False)\n",
        "plt.xticks([])\n",
        "plt.yticks([])\n",
        "\n",
        "plt.imshow(newimage, cmap=plt.cm.binary)"
      ],
      "execution_count": 47,
      "outputs": [
        {
          "output_type": "execute_result",
          "data": {
            "text/plain": [
              "<matplotlib.image.AxesImage at 0x7f8b1d06d8d0>"
            ]
          },
          "metadata": {
            "tags": []
          },
          "execution_count": 47
        },
        {
          "output_type": "display_data",
          "data": {
            "image/png": "[encoded data removed]",
            "text/plain": [
              "<Figure size 432x288 with 1 Axes>"
            ]
          },
          "metadata": {
            "tags": []
          }
        }
      ]
    },
    {
      "cell_type": "code",
      "metadata": {
        "colab": {
          "base_uri": "https://localhost:8080/"
        },
        "id": "5vYlkcCFFlHb",
        "outputId": "831575e2-024b-47f0-e7a7-2e1d025905f2"
      },
      "source": [
        "example_img_as_input = (np.expand_dims(example_img,0))\n",
        "print(\"Image data shape:\", example_img_as_input.shape)\n",
        "\n",
        "img_prediction = model.predict(example_img_as_input)\n",
        "print(\"Prediction results:\", img_prediction)\n",
        "print(\"Predicted value:\", np.argmax(img_prediction))\n",
        "\n"
      ],
      "execution_count": null,
      "outputs": [
        {
          "output_type": "stream",
          "text": [
            "Image data shape: (1, 28, 28, 1)\n",
            "Prediction results: [[0.01023546 0.00966323 0.00466284 0.03495229 0.01175072 0.01807204\n",
            "  0.00241171 0.8286667  0.01298105 0.06660396]]\n",
            "Predicted value: 7\n"
          ],
          "name": "stdout"
        }
      ]
    }
  ]
}